{
  "nbformat": 4,
  "nbformat_minor": 0,
  "metadata": {
    "colab": {
      "provenance": [],
      "authorship_tag": "ABX9TyNlE00YgHSDj/iaf1U8PUUW",
      "include_colab_link": true
    },
    "kernelspec": {
      "name": "python3",
      "display_name": "Python 3"
    },
    "language_info": {
      "name": "python"
    }
  },
  "cells": [
    {
      "cell_type": "markdown",
      "metadata": {
        "id": "view-in-github",
        "colab_type": "text"
      },
      "source": [
        "<a href=\"https://colab.research.google.com/github/nakkavijay/python-programs-nxt-/blob/main/python_programs1.ipynb\" target=\"_parent\"><img src=\"https://colab.research.google.com/assets/colab-badge.svg\" alt=\"Open In Colab\"/></a>"
      ]
    },
    {
      "cell_type": "code",
      "execution_count": null,
      "metadata": {
        "colab": {
          "base_uri": "https://localhost:8080/"
        },
        "id": "dK_AfMJzE0Na",
        "outputId": "4d53e71e-b815-4f57-fb1e-05ae633ab341"
      },
      "outputs": [
        {
          "output_type": "stream",
          "name": "stdout",
          "text": [
            "Apple\n"
          ]
        }
      ],
      "source": [
        "# Declaring and assigning value to a variable\n",
        "a = \"Apple\"\n",
        "print(a)"
      ]
    },
    {
      "cell_type": "code",
      "source": [
        "# Changing value of a variable\n",
        "a = \"Aeroplane\"\n",
        "print(a)\n",
        "\n",
        "a = 100\n",
        "print(a)\n",
        "\n",
        "\n",
        "#Asssigning multiple values to a variable \n",
        "b, c, d =  1,2.5, \"Hello\"\n",
        "print(b, c, d)\n",
        "\n"
      ],
      "metadata": {
        "id": "s3eqm7E3FLau",
        "colab": {
          "base_uri": "https://localhost:8080/"
        },
        "outputId": "1e656a9c-4db9-417b-b031-f1e91cf1b67f"
      },
      "execution_count": null,
      "outputs": [
        {
          "output_type": "stream",
          "name": "stdout",
          "text": [
            "Aeroplane\n",
            "100\n",
            "1 2.5 Hello\n"
          ]
        }
      ]
    }
  ]
}